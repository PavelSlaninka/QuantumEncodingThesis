{
 "cells": [
  {
   "cell_type": "markdown",
   "metadata": {},
   "source": [
    "### Basis encoding\n",
    "In this example, a randomly generated binary vector is encoded using the basis encoding method.\n",
    "\n",
    "The results of the encoding are examined and compared to the expected results.\n",
    "\n",
    "Finally, the performance of the encoding algorithm is also showcased on a real quantum computer."
   ]
  },
  {
   "cell_type": "markdown",
   "metadata": {},
   "source": [
    "---"
   ]
  },
  {
   "cell_type": "markdown",
   "metadata": {},
   "source": [
    "Firstly, the `qsp` package that contains the encoding algorithms is imported (it is essential to preserve the same file structure as in the published repository; otherwise, the import may not work):"
   ]
  },
  {
   "cell_type": "code",
   "execution_count": 1,
   "metadata": {},
   "outputs": [],
   "source": [
    "import os\n",
    "\n",
    "# Get the directory of this Notebook file:\n",
    "current_notebook_directory = get_ipython().run_line_magic(\"pwd\", \"\").strip()\n",
    "\n",
    "# Change the current working directory to this Notebook's directory:\n",
    "os.chdir(current_notebook_directory)\n",
    "\n",
    "# Move up two directories (to the root of the repository):\n",
    "os.chdir(\"./../../\")\n",
    "\n",
    "# Import the quantum state preparation package:\n",
    "import qsp\n",
    "\n",
    "# Change the current working directory to this Notebook's directory:\n",
    "os.chdir('./notebooks/encoding_demonstration')"
   ]
  },
  {
   "cell_type": "markdown",
   "metadata": {},
   "source": [
    "This example demonstrates the basis encoding method by encoding a random input vector. Thus, the first step is to generate a pseudo-random binary vector containing elements that are equal to either `0` or `1`. The vector binarity is a requirement of the basis encoding method. The `length` of the vector can be specified:"
   ]
  },
  {
   "cell_type": "code",
   "execution_count": 2,
   "metadata": {},
   "outputs": [],
   "source": [
    "# The length of the vector to be generated and encoded:\n",
    "length = 3"
   ]
  },
  {
   "cell_type": "code",
   "execution_count": 3,
   "metadata": {},
   "outputs": [
    {
     "name": "stdout",
     "output_type": "stream",
     "text": [
      "The generated binary input vector: [1, 1, 0]\n"
     ]
    }
   ],
   "source": [
    "import random\n",
    "\n",
    "# Generate a random binary vector:\n",
    "input_vector = [random.choice([0, 1]) for _ in range(length)]\n",
    "\n",
    "print(\"The generated binary input vector:\", input_vector)"
   ]
  },
  {
   "cell_type": "markdown",
   "metadata": {},
   "source": [
    "The basis encoding method uses the same number of qubits as the number of elements in the generated input vector. Each input vector element also serves as a desired probability of the corresponding qubit collapsing to the state $\\ket{1}$ during the measurement (assuming the standard basis is used). So, the qubit should either always collapse to the state $\\ket{1}$ or always collapse to the $\\ket{0}$, depending on the value of the corresponding input vector element. This can be easily achieved by just using an `x` gate on those qubits that have $\\ket{1}$ as an input."
   ]
  },
  {
   "cell_type": "markdown",
   "metadata": {},
   "source": [
    "The generated input vector is encoded by creating a `qsp.BasisEncoding` instance and passing the input vector as an argument:"
   ]
  },
  {
   "cell_type": "code",
   "execution_count": 4,
   "metadata": {},
   "outputs": [],
   "source": [
    "# Encode the input vector using the basis encoding method:\n",
    "encoding = qsp.BasisEncoding(input_vector)"
   ]
  },
  {
   "cell_type": "markdown",
   "metadata": {},
   "source": [
    "Now that the input vector is encoded, the created quantum circuit that encodes the input vector is shown:"
   ]
  },
  {
   "cell_type": "code",
   "execution_count": 5,
   "metadata": {},
   "outputs": [
    {
     "data": {
      "image/png": "[encoded data removed]",
      "text/plain": [
       "<Figure size 203.885x284.278 with 1 Axes>"
      ]
     },
     "execution_count": 5,
     "metadata": {},
     "output_type": "execute_result"
    }
   ],
   "source": [
    "# Show the quantum circuit:\n",
    "encoding.quantum_circuit.draw(\"mpl\")"
   ]
  },
  {
   "cell_type": "markdown",
   "metadata": {},
   "source": [
    "Next, a basic simulation is performed where all qubits are measured using the default `Aer.AerSimulator()` and the results of the simulation are plotted. The number of times the simulation is performed can be specified using the `shots` variable:"
   ]
  },
  {
   "cell_type": "code",
   "execution_count": 6,
   "metadata": {},
   "outputs": [],
   "source": [
    "# How many times the simulation should be performed.\n",
    "# This value is also used later in this Notebook.\n",
    "shots = 10000"
   ]
  },
  {
   "cell_type": "code",
   "execution_count": 7,
   "metadata": {},
   "outputs": [
    {
     "data": {
      "image/png": "[encoded data removed]",
      "text/plain": [
       "<Figure size 700x500 with 1 Axes>"
      ]
     },
     "metadata": {},
     "output_type": "display_data"
    }
   ],
   "source": [
    "# Run the basic aer simulation, show a plot with the results,\n",
    "# and save the counts dictionary of the simulation for later use:\n",
    "counts = encoding.run_aer_simulator(shots).get_counts()"
   ]
  },
  {
   "cell_type": "markdown",
   "metadata": {},
   "source": [
    "Due to the nature of the basis encoding method, the simulation results should always consist of just one state, where 100% of the measurements end up in just one specific state specified by the encoding circuit (however, it is possible for errors to occur on real quantum computers)."
   ]
  },
  {
   "cell_type": "markdown",
   "metadata": {},
   "source": [
    "If some states are missing from the simulation results, they are added to the `counts` dictionary (with the count being zero). This step is necessary to ensure the subsequent functions work correctly."
   ]
  },
  {
   "cell_type": "code",
   "execution_count": 8,
   "metadata": {},
   "outputs": [],
   "source": [
    "# To reduce the length of this Notebook and to avoid duplicate\n",
    "# code in multiple Notebooks, the code that is not important for this\n",
    "# encoding method demonstration is located in the \"helpers.py\" file:\n",
    "import helpers\n",
    "\n",
    "# Add all possible states to the counts dictionary if they are not present:\n",
    "helpers.add_states_if_missing(counts)"
   ]
  },
  {
   "cell_type": "markdown",
   "metadata": {},
   "source": [
    "Now, the simulation results are used to create a list containing the number of times each qubit has collapsed to the state $\\ket{1}$:"
   ]
  },
  {
   "cell_type": "code",
   "execution_count": 9,
   "metadata": {},
   "outputs": [],
   "source": [
    "# Get the number of collapses to the state |1> for each qubit:\n",
    "qubit_results = helpers.results_for_qubits(counts)"
   ]
  },
  {
   "cell_type": "markdown",
   "metadata": {},
   "source": [
    "The numbers indicating how many times each qubit has collapsed to the state $\\ket{1}$ are shown in the table below, along with the expected numbers. The input vector specifies the desired measurement result for each qubit. These input vector elements (expected probabilities of measuring a qubit in the state $\\ket{1}$) are multiplied by the number of `shots` of the simulation to obtain the expected number of collapses to the state $\\ket{1}$ for each qubit:"
   ]
  },
  {
   "cell_type": "code",
   "execution_count": 10,
   "metadata": {},
   "outputs": [
    {
     "data": {
      "text/html": [
       "<style type=\"text/css\">\n",
       "#T_c8813_row0_col1, #T_c8813_row0_col2, #T_c8813_row1_col1, #T_c8813_row1_col2 {\n",
       "  background-color: #08306b;\n",
       "  color: #f1f1f1;\n",
       "}\n",
       "#T_c8813_row2_col1, #T_c8813_row2_col2 {\n",
       "  background-color: #f7fbff;\n",
       "  color: #000000;\n",
       "}\n",
       "</style>\n",
       "<table id=\"T_c8813\">\n",
       "  <thead>\n",
       "    <tr>\n",
       "      <th class=\"blank level0\" >&nbsp;</th>\n",
       "      <th id=\"T_c8813_level0_col0\" class=\"col_heading level0 col0\" >Qubit</th>\n",
       "      <th id=\"T_c8813_level0_col1\" class=\"col_heading level0 col1\" >Expected count for |1></th>\n",
       "      <th id=\"T_c8813_level0_col2\" class=\"col_heading level0 col2\" >Actual count for |1></th>\n",
       "    </tr>\n",
       "  </thead>\n",
       "  <tbody>\n",
       "    <tr>\n",
       "      <th id=\"T_c8813_level0_row0\" class=\"row_heading level0 row0\" >0</th>\n",
       "      <td id=\"T_c8813_row0_col0\" class=\"data row0 col0\" >0</td>\n",
       "      <td id=\"T_c8813_row0_col1\" class=\"data row0 col1\" >10000</td>\n",
       "      <td id=\"T_c8813_row0_col2\" class=\"data row0 col2\" >10000</td>\n",
       "    </tr>\n",
       "    <tr>\n",
       "      <th id=\"T_c8813_level0_row1\" class=\"row_heading level0 row1\" >1</th>\n",
       "      <td id=\"T_c8813_row1_col0\" class=\"data row1 col0\" >1</td>\n",
       "      <td id=\"T_c8813_row1_col1\" class=\"data row1 col1\" >10000</td>\n",
       "      <td id=\"T_c8813_row1_col2\" class=\"data row1 col2\" >10000</td>\n",
       "    </tr>\n",
       "    <tr>\n",
       "      <th id=\"T_c8813_level0_row2\" class=\"row_heading level0 row2\" >2</th>\n",
       "      <td id=\"T_c8813_row2_col0\" class=\"data row2 col0\" >2</td>\n",
       "      <td id=\"T_c8813_row2_col1\" class=\"data row2 col1\" >0</td>\n",
       "      <td id=\"T_c8813_row2_col2\" class=\"data row2 col2\" >0</td>\n",
       "    </tr>\n",
       "  </tbody>\n",
       "</table>\n"
      ],
      "text/plain": [
       "<pandas.io.formats.style.Styler at 0x1ec749b2960>"
      ]
     },
     "metadata": {},
     "output_type": "display_data"
    }
   ],
   "source": [
    "# Display a table containing the expected and actual\n",
    "# number of the collapses to the state |1> for each qubit:\n",
    "helpers.show_qubit_results_table(shots, input_vector, qubit_results)"
   ]
  },
  {
   "cell_type": "markdown",
   "metadata": {},
   "source": [
    "In the basis encoding method, one qubit per element of the generated input vector is used to encode the input vector. So, the length of the `input_vector` is the same as the number of qubits in the previously constructed quantum circuit. Each element of the `input_vector` equals the probability of measuring the respective qubit in the state $\\ket{1}$. The probabilities are always equal to either `0` or `1`, so no qubit is in the state of superposition after the encoding is done. That means that the measurement results should ideally always be the same."
   ]
  },
  {
   "cell_type": "markdown",
   "metadata": {},
   "source": [
    " Regardless of the input vector, the probability of measuring each composite state (state of the whole quantum system, not just the individual qubits) except for one should equal zero, while the probability of measuring the one state defined by the input vector should equal one. Next, these probabilities are stored in the `state_probabilities_expected` list. This list is used in charts later in this Notebook. The length of this list is equal to $2^n$, where $n$ is the length of the input vector. One element of this list is equal to one, and all other elements are equal to zero. The list is sorted such that its i-th element represents the probability of measuring the quantum state in the state described by the i-th binary string, where binary strings of length $n$ are ordered by their least significant bit:"
   ]
  },
  {
   "cell_type": "code",
   "execution_count": 11,
   "metadata": {},
   "outputs": [],
   "source": [
    "# Get the probabilities of measuring the\n",
    "# quantum system in each possible state:\n",
    "state_probabilities_expected = helpers.calculate_state_probabilities(input_vector)"
   ]
  },
  {
   "cell_type": "markdown",
   "metadata": {},
   "source": [
    "Simulation results do not guarantee that an encoding algorithm works correctly. The more accurate way to determine whether an encoding method produced the desired results for a given input vector is to get a statevector of the quantum system after all the required gates are added to the quantum circuit. Then, after squaring such statevector, the elements of that squared statevector correspond to the probabilities of measuring each possible composite state (this approach is suitable for the basis encoding method but may not be suitable for some different encoding techniques)."
   ]
  },
  {
   "cell_type": "code",
   "execution_count": 12,
   "metadata": {},
   "outputs": [],
   "source": [
    "import numpy as np\n",
    "\n",
    "# Get the statevector of the quantum state after applying all the gates:\n",
    "statevector = encoding.get_statevector().data\n",
    "\n",
    "# Calculate the probabilities of measuring each possible\n",
    "# state (use absolute values to discard the complex parts;\n",
    "# each complex part equals zero in this case anyway):\n",
    "state_probabilities_actual = np.abs(statevector) ** 2"
   ]
  },
  {
   "cell_type": "markdown",
   "metadata": {},
   "source": [
    "The `state_probabilities_actual` list now contains the actual probabilities of measuring each possible state. The length of this list is equal to $2^n$, where $n$ is the length of the input vector. The list is sorted such that its i-th element represents the probability of measuring the quantum state in the state described by the i-th binary string, where binary strings of length $n$ are ordered by their least significant bit.\n",
    "\n",
    "These obtained probabilities can be compared to the expected probabilities given by the input vector to see whether the encoding works correctly for this specific generated input vector. If the encoding works as intended, both `state_probabilities_expected` and `state_probabilities_actual` lists should be identical:"
   ]
  },
  {
   "cell_type": "code",
   "execution_count": 13,
   "metadata": {},
   "outputs": [
    {
     "name": "stdout",
     "output_type": "stream",
     "text": [
      "The expected probabilities are the same as the actual probabilities.\n"
     ]
    }
   ],
   "source": [
    "# Compare the expected probabilities of the generated\n",
    "# vector with the actual probabilities of the quantum\n",
    "# system after applying all the gates and display the result:\n",
    "helpers.compare_probabilities_expected_actual(\n",
    "    state_probabilities_expected, state_probabilities_actual\n",
    ")"
   ]
  },
  {
   "cell_type": "markdown",
   "metadata": {},
   "source": [
    "To see all the previously discussed data at a glance, a bar plot is shown containing the simulation counts, along with the expected and the actual probabilities of measuring each possible state of the quantum system:"
   ]
  },
  {
   "cell_type": "code",
   "execution_count": 14,
   "metadata": {},
   "outputs": [
    {
     "data": {
      "image/png": "[encoded data removed]",
      "text/plain": [
       "<Figure size 800x600 with 2 Axes>"
      ]
     },
     "metadata": {},
     "output_type": "display_data"
    }
   ],
   "source": [
    "# Show the simulation counts, expected probabilities,\n",
    "# and actual probabilities in a single bar plot:\n",
    "helpers.compare_results_simulation_plot(\n",
    "    shots, counts, state_probabilities_expected, state_probabilities_actual\n",
    ")"
   ]
  },
  {
   "cell_type": "markdown",
   "metadata": {},
   "source": [
    "In the following section of this Notebook, measurements are performed on a real quantum computer to see the performance of this encoding method on one of the IBM Quantum computers."
   ]
  },
  {
   "cell_type": "markdown",
   "metadata": {},
   "source": [
    "The least busy backend instance is chosen to run the previously constructed quantum circuit on, even though it may have far more qubits than required by the circuit:"
   ]
  },
  {
   "cell_type": "code",
   "execution_count": 15,
   "metadata": {},
   "outputs": [],
   "source": [
    "from qiskit_ibm_runtime import QiskitRuntimeService\n",
    "\n",
    "# Create a QiskitRuntimeService instance with 'ibm_quantum'\n",
    "# chosen as the channel (the other possibility is 'ibm_cloud',\n",
    "# but in this repository, IBM Quantum is used):\n",
    "\n",
    "# Save your IBM Quantum API token first using the\n",
    "# QiskitRuntimeService.save_account() method or\n",
    "# specify your token directly in the QiskitRuntimeService()\n",
    "# constructor by passing your token in the \"token\" parameter.\n",
    "service = QiskitRuntimeService(\n",
    "    channel=\"ibm_quantum\",\n",
    "    # Use the instance \"ibm-q/open/main\" available to\n",
    "    # all if you do not have access to a custom instance:\n",
    "    instance=\"cvut/general/d-c-state-prep\",\n",
    ")\n",
    "\n",
    "# Fetch the least busy quantum computer (one that has the fewest jobs queued):\n",
    "backend = service.least_busy(operational=True, simulator=False, min_num_qubits=length)"
   ]
  },
  {
   "cell_type": "markdown",
   "metadata": {},
   "source": [
    "Show some basic information about the chosen quantum computer:"
   ]
  },
  {
   "cell_type": "code",
   "execution_count": 16,
   "metadata": {},
   "outputs": [
    {
     "name": "stdout",
     "output_type": "stream",
     "text": [
      "The chosen backend information (this information was retrieved on May 10, 2024):\n",
      "Backend name: ibm_osaka\n",
      "Number of qubits: 127\n",
      "Version of Backend class: 2\n",
      "The date that the device went online: 2023-10-09 04:00:00+00:00\n",
      "The number of pending jobs currently on the backend: 12\n",
      "Instructions supported by the backend: ['ecr', 'id', 'delay', 'measure', 'reset', 'rz', 'sx', 'x', 'if_else', 'for_loop', 'switch_case']\n"
     ]
    }
   ],
   "source": [
    "from datetime import datetime\n",
    "\n",
    "# Get the current date and save it in a readable format:\n",
    "current_date = datetime.now().strftime(\"%B %d, %Y\")\n",
    "\n",
    "# Show some basic information about the chosen quantum\n",
    "# computer (also print the current date, because the\n",
    "# retrieved information may become outdated over time,\n",
    "# or the computer itself may become deprecated):\n",
    "print(\n",
    "    f\"The chosen backend information (this information was retrieved on {current_date}):\\n\"\n",
    "    f\"Backend name: {backend.name}\\n\"\n",
    "    f\"Number of qubits: {backend.num_qubits}\\n\"\n",
    "    f\"Version of Backend class: {backend.version}\\n\"\n",
    "    f\"The date that the device went online: {backend.online_date}\\n\"\n",
    "    f\"The number of pending jobs currently on the backend: {backend.status().pending_jobs}\\n\"\n",
    "    f\"Instructions supported by the backend: {backend.supported_instructions}\"\n",
    ")"
   ]
  },
  {
   "cell_type": "markdown",
   "metadata": {},
   "source": [
    "To get measurement results by running a circuit on a backend, the `Sampler` primitive is used. The `Sampler` primitive is initialized with the chosen backend:"
   ]
  },
  {
   "cell_type": "code",
   "execution_count": 17,
   "metadata": {},
   "outputs": [],
   "source": [
    "from qiskit_ibm_runtime import SamplerV2\n",
    "\n",
    "# Initialize the Sampler primitive with the chosen backend:\n",
    "sampler = SamplerV2(backend=backend)"
   ]
  },
  {
   "cell_type": "markdown",
   "metadata": {},
   "source": [
    "It is essential to add measurements to a quantum circuit before running it on a quantum computer using the `Sampler` primitive. When using the basis encoding method, all qubits need to be measured to obtain the proper encoding results:"
   ]
  },
  {
   "cell_type": "code",
   "execution_count": 18,
   "metadata": {},
   "outputs": [],
   "source": [
    "# Add measurements to the circuit:\n",
    "encoding.quantum_circuit.measure_all()"
   ]
  },
  {
   "cell_type": "markdown",
   "metadata": {},
   "source": [
    "A job is created and added to the backend queue by running the circuit through the `Sampler`:"
   ]
  },
  {
   "cell_type": "code",
   "execution_count": 19,
   "metadata": {},
   "outputs": [],
   "source": [
    "# Create a job and run it on the chosen quantum computer through\n",
    "# the `Sampler` primitive (the circuit must be passed in a list):\n",
    "job = sampler.run([encoding.quantum_circuit], shots=shots)"
   ]
  },
  {
   "cell_type": "markdown",
   "metadata": {},
   "source": [
    "After waiting for the job to complete, the job result is displayed:"
   ]
  },
  {
   "cell_type": "code",
   "execution_count": 20,
   "metadata": {},
   "outputs": [
    {
     "name": "stdout",
     "output_type": "stream",
     "text": [
      "PrimitiveResult([PubResult(data=DataBin(meas=BitArray(<shape=(), num_shots=10000, num_bits=3>)), metadata={'circuit_metadata': {}})], metadata={'version': 2})\n"
     ]
    }
   ],
   "source": [
    "# Wait for the job to complete and get the results:\n",
    "result_real_backend = job.result()\n",
    "\n",
    "# Print the result of the completed job:\n",
    "print(result_real_backend)"
   ]
  },
  {
   "cell_type": "markdown",
   "metadata": {},
   "source": [
    "The measurement results are extracted from the job result and displayed:"
   ]
  },
  {
   "cell_type": "code",
   "execution_count": 21,
   "metadata": {},
   "outputs": [
    {
     "name": "stdout",
     "output_type": "stream",
     "text": [
      "\n",
      "The measurement results:\n",
      " {'011': 8701, '111': 207, '010': 903, '001': 138, '110': 27, '000': 15, '101': 7, '100': 2}\n"
     ]
    }
   ],
   "source": [
    "# Get the first (and only) PubResult:\n",
    "pub_result = result_real_backend[0]\n",
    "\n",
    "# Get the measurement results from the classical\n",
    "# register 'meas' of the PubResult and print them:\n",
    "counts_real_backend = pub_result.data.meas.get_counts()\n",
    "print(\"\\nThe measurement results:\\n\", counts_real_backend)"
   ]
  },
  {
   "cell_type": "markdown",
   "metadata": {},
   "source": [
    "If some states are missing from the obtained measurement results stored in the `counts_real_backend` dictionary, they are added, with the count being zero (this step is necessary to ensure the following plotting function works correctly):"
   ]
  },
  {
   "cell_type": "code",
   "execution_count": 22,
   "metadata": {},
   "outputs": [],
   "source": [
    "# Add all possible states to the\n",
    "# \"counts_real_backend\" dictionary if they are absent:\n",
    "helpers.add_states_if_missing(counts_real_backend)"
   ]
  },
  {
   "cell_type": "markdown",
   "metadata": {},
   "source": [
    "A bar plot is shown to visualize how these results compare to the simulation results and the expected results calculated earlier:"
   ]
  },
  {
   "cell_type": "code",
   "execution_count": 23,
   "metadata": {},
   "outputs": [
    {
     "data": {
      "image/png": "[encoded data removed]",
      "text/plain": [
       "<Figure size 800x600 with 2 Axes>"
      ]
     },
     "metadata": {},
     "output_type": "display_data"
    }
   ],
   "source": [
    "# Show the experiment counts, simulation counts\n",
    "# and expected probabilities in a single bar plot:\n",
    "helpers.compare_results_experiment_plot(\n",
    "    shots, counts, counts_real_backend, state_probabilities_actual\n",
    ")"
   ]
  },
  {
   "cell_type": "markdown",
   "metadata": {},
   "source": [
    "One of the ways to quantify the extent to which the results of the measurements on the quantum computer correspond to the expected results defined by the input vector is to use a measure called `fidelity`. In simple terms, the `fidelity` between two quantum states quantifies how similar or different these states are. It ranges from 0 to 1, where 1 indicates that the states are identical, and 0 indicates that they are completely orthogonal. Given two pure quantum states, the `fidelity` between them is defined as the absolute square of their inner product. The closer the `fidelity` is to 1, the better an encoding method performs on quantum computers. The more errors happen during a computation on a quantum computer, the lower the `fidelity` may be."
   ]
  },
  {
   "cell_type": "markdown",
   "metadata": {},
   "source": [
    "Next, the fidelity between two pure quantum states is calculated. One of these pure states is derived from the generated input vector, it is stored in the `statevector` variable. The other pure state is obtained by approximation, where the probability distribution of quantum states is inferred from the measurement results by normalizing the measurement outcomes from the `counts_real_backend` variable:"
   ]
  },
  {
   "cell_type": "code",
   "execution_count": 24,
   "metadata": {},
   "outputs": [
    {
     "name": "stdout",
     "output_type": "stream",
     "text": [
      "The fidelity between the states is: 0.8700999999999999\n"
     ]
    }
   ],
   "source": [
    "# Calculate the fidelity between the \"statevector\" state and\n",
    "# the state obtained from the \"counts_real_backend\" dictionary:\n",
    "fidelity = helpers.calculate_fidelity(shots, statevector, counts_real_backend)\n",
    "\n",
    "print(\"The fidelity between the states is:\", fidelity)"
   ]
  },
  {
   "cell_type": "markdown",
   "metadata": {},
   "source": [
    "Another measure of the distinguishability between two quantum states is the `trace distance`. The `trace distance` for pure states directly relates to the `fidelity`. For two pure quantum states, the `trace distance` is defined as the square root of one minus the `fidelity` between them. So, the closer the `trace distance` is to 0, the \"closer\" the states are to each other."
   ]
  },
  {
   "cell_type": "markdown",
   "metadata": {},
   "source": [
    "In the final section of this Notebook, the `trace distance` is calculated between the state defined by the `statevector` variable and the state obtained by approximation from the `counts_real_backend` variable:"
   ]
  },
  {
   "cell_type": "code",
   "execution_count": 25,
   "metadata": {},
   "outputs": [
    {
     "name": "stdout",
     "output_type": "stream",
     "text": [
      "The trace_distance between the states is: 0.3604164258188022\n"
     ]
    }
   ],
   "source": [
    "# Calculate the trace distance between the \"statevector\" state and\n",
    "# the state obtained from the \"counts_real_backend\" dictionary:\n",
    "trace_distance = helpers.calculate_trace_distance(shots, statevector, counts_real_backend)\n",
    "\n",
    "print(\"The trace_distance between the states is:\", trace_distance)"
   ]
  }
 ],
 "metadata": {
  "kernelspec": {
   "display_name": ".venv",
   "language": "python",
   "name": "python3"
  },
  "language_info": {
   "codemirror_mode": {
    "name": "ipython",
    "version": 3
   },
   "file_extension": ".py",
   "mimetype": "text/x-python",
   "name": "python",
   "nbconvert_exporter": "python",
   "pygments_lexer": "ipython3",
   "version": "3.12.2"
  }
 },
 "nbformat": 4,
 "nbformat_minor": 2
}
