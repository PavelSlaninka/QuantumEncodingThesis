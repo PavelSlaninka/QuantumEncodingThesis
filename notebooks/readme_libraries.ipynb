{
 "cells": [
  {
   "cell_type": "markdown",
   "metadata": {},
   "source": [
    "This repository contains the implemented data encoding methods and also various Jupyter Notebooks that primarily demonstrate those encoding methods. Multiple libraries are required to use the encoding methods and run the Notebooks. It is important to ensure all the required libraries listed below are installed in the virtual environment:"
   ]
  },
  {
   "cell_type": "code",
   "execution_count": null,
   "metadata": {},
   "outputs": [],
   "source": [
    "# If any issues with the libraries are encountered, they can potentially\n",
    "# be fixed by installing the specific versions listed below. The\n",
    "# package 'qsp' and all the Notebooks have been tested and are\n",
    "# fully functional with the versions of the libraries specified\n",
    "# below (which were the latest working versions available\n",
    "# at the time this repository was created).\n",
    "\n",
    "!pip install numpy==1.26.4\n",
    "!pip install qiskit==1.1.0\n",
    "!pip install qiskit-aer==0.14.1\n",
    "!pip install qiskit-ibm-runtime==0.23.0\n",
    "!pip install matplotlib==3.9.0\n",
    "!pip install pylatexenc==2.10\n",
    "!pip install pandas==2.2.2\n",
    "!pip install Jinja2==3.1.4\n",
    "!pip install quimb==1.8.1"
   ]
  },
  {
   "cell_type": "code",
   "execution_count": 2,
   "metadata": {},
   "outputs": [
    {
     "name": "stdout",
     "output_type": "stream",
     "text": [
      "Python version at the time this repository was published:\n",
      "3.12.3 (v3.12.3:f6650f9ad7, Apr  9 2024, 08:18:47) [Clang 13.0.0 (clang-1300.0.29.30)]\n"
     ]
    }
   ],
   "source": [
    "import sys\n",
    "\n",
    "# Print the version of Python used at the time this repository was created,\n",
    "# meaning all files in this repository work with the Python version printed below:\n",
    "print(\"Python version at the time this repository was published:\\n\" + sys.version)"
   ]
  }
 ],
 "metadata": {
  "kernelspec": {
   "display_name": ".venv",
   "language": "python",
   "name": "python3"
  },
  "language_info": {
   "codemirror_mode": {
    "name": "ipython",
    "version": 3
   },
   "file_extension": ".py",
   "mimetype": "text/x-python",
   "name": "python",
   "nbconvert_exporter": "python",
   "pygments_lexer": "ipython3",
   "version": "3.12.2"
  }
 },
 "nbformat": 4,
 "nbformat_minor": 2
}
